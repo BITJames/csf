{
 "cells": [
  {
   "cell_type": "code",
   "execution_count": 5,
   "metadata": {},
   "outputs": [
    {
     "name": "stdout",
     "output_type": "stream",
     "text": [
      "no e-pos I \n",
      "\n",
      "[5, 5] \n",
      "\n",
      "no e-pos I \n",
      "\n",
      "[3, 3, 2, 2] \n",
      "\n",
      "end\n"
     ]
    }
   ],
   "source": [
    "#nsym_double_lariat_graph_DLa,b\n",
    "sym=SymmetricFunctions(ZZ)\n",
    "p=sym.powersum()\n",
    "h=sym.homogeneous()\n",
    "e=sym.elementary()\n",
    "a=4\n",
    "b=4\n",
    "c=1\n",
    "n=a+b+c+1\n",
    "G=[]\n",
    "for i in range(1,a+b+1):\n",
    "    G+=[[i,i+1]]\n",
    "for i in range(a+b+2,a+b+c+2):\n",
    "    G+=[[a+1,i]]\n",
    "    \n",
    "XG=Graph(G).chromatic_symmetric_function()\n",
    "XG=e(XG)\n",
    "\n",
    "t=0\n",
    "for lam in Partitions(n):\n",
    "    if  XG.coefficient(lam)<0:                                    \n",
    "        print(\"no e-pos\",lam,'\\n')\n",
    "        t=1            \n",
    "if t==0:\n",
    "    print(\"e-pos\",'\\n')\n",
    "print(\"end\")"
   ]
  },
  {
   "cell_type": "code",
   "execution_count": null,
   "metadata": {},
   "outputs": [
    {
     "name": "stdout",
     "output_type": "stream",
     "text": [
      "G [[1, 10], [1, 11], [1, 12], [1, 13], [1, 14], [1, 15], [2, 7], [2, 8], [2, 9], [2, 13], [2, 14], [2, 15], [3, 6], [3, 8], [3, 9], [3, 11], [3, 12], [3, 15], [4, 6], [4, 7], [4, 9], [4, 10], [4, 12], [4, 14], [5, 6], [5, 7], [5, 8], [5, 10], [5, 11], [5, 13], [6, 13], [6, 14], [6, 15], [7, 11], [7, 12], [7, 15], [8, 10], [8, 12], [8, 14], [9, 10], [9, 11], [9, 13], [10, 15], [11, 14], [12, 13]] 45\n",
      "1 [10, 11, 12, 13, 14, 15]\n",
      "2 [7, 8, 9, 13, 14, 15]\n",
      "3 [6, 8, 9, 11, 12, 15]\n",
      "4 [6, 7, 9, 10, 12, 14]\n",
      "5 [6, 7, 8, 10, 11, 13]\n",
      "6 [3, 4, 5, 13, 14, 15]\n",
      "7 [2, 4, 5, 11, 12, 15]\n",
      "8 [2, 3, 5, 10, 12, 14]\n",
      "9 [2, 3, 4, 10, 11, 13]\n",
      "10 [1, 4, 5, 8, 9, 15]\n",
      "11 [1, 3, 5, 7, 9, 14]\n",
      "12 [1, 3, 4, 7, 8, 13]\n",
      "13 [1, 2, 5, 6, 9, 12]\n",
      "14 [1, 2, 4, 6, 8, 11]\n",
      "15 [1, 2, 3, 6, 7, 10]\n"
     ]
    }
   ],
   "source": [
    "sym=SymmetricFunctions(ZZ)\n",
    "e=sym.elementary()\n",
    "s = sym.schur()\n",
    "def epos_kneser(m):\n",
    "    vtx = {}\n",
    "    n = 0\n",
    "    for i in range(m):\n",
    "        for j in range(i+1, m):\n",
    "            n += 1\n",
    "            vtx[n] = set([i, j])\n",
    "    G = []\n",
    "    for i in range(1, n+1):\n",
    "        for j in range(i+1, n+1):\n",
    "            if  vtx[i].isdisjoint(vtx[j]):\n",
    "                G.append([i, j])\n",
    "    print(\"G\",G,len(G))\n",
    "    for i in range(1, n+1):\n",
    "        print(i, [sum(edge) - i for edge in G if i in edge])\n",
    "    XG = Graph(G).chromatic_symmetric_function()\n",
    "    XG = s(XG)\n",
    "    print(\"XG\",XG)\n",
    "    for lam in Partitions(n):\n",
    "        if XG.coefficient(lam) < 0:\n",
    "            print(m, \"no e-pos\", lam)\n",
    "            break\n",
    "    print(m, \"is s-pos !\")\n",
    "epos_kneser(6)\n"
   ]
  },
  {
   "cell_type": "code",
   "execution_count": null,
   "metadata": {},
   "outputs": [],
   "source": []
  }
 ],
 "metadata": {
  "kernelspec": {
   "display_name": "SageMath 9.3",
   "language": "sage",
   "name": "sagemath"
  },
  "language_info": {
   "codemirror_mode": {
    "name": "ipython",
    "version": 3
   },
   "file_extension": ".py",
   "mimetype": "text/x-python",
   "name": "python",
   "nbconvert_exporter": "python",
   "pygments_lexer": "ipython3",
   "version": "3.7.10"
  }
 },
 "nbformat": 4,
 "nbformat_minor": 4
}
